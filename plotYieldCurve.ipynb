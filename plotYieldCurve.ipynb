{
 "cells": [
  {
   "cell_type": "markdown",
   "metadata": {},
   "source": [
    "The code to calculate narrow resonance finite target yield as a function of beam energy."
   ]
  },
  {
   "cell_type": "code",
   "execution_count": null,
   "metadata": {},
   "outputs": [],
   "source": [
    "import matplotlib.pyplot as plt\n",
    "import numpy as np\n",
    "import math\n",
    "import scipy.integrate as integrate\n",
    "\n",
    "def lambda_sq(tar_A, proj_A, Er_com):\n",
    "    red_M = proj_A * tar_A / (proj_A + tar_A)\n",
    "    h = 4.1357E-21  # MeV.s\n",
    "    amu = 9.32E+02  # MeV/c2\n",
    "    c = 3E+10  # cm/s\n",
    "    return h * h * c * c / (2 * red_M * amu * Er_com)  # cm2\n",
    "\n",
    "def max_yield(lambda_sq_com, dedx_com, wg_com):\n",
    "    Ymax = (lambda_sq_com / 2) * (1 / dedx_com) * (wg_com)\n",
    "    return Ymax\n",
    "\n",
    "def integrand(E_com, Er_com, gamma_r_com, delE_com, Ein_com, delta_com):\n",
    "    lim1 = math.atan((E_com - Er_com) / (gamma_r_com / 2))\n",
    "    lim2 = math.atan((E_com - Er_com - delE_com) / (gamma_r_com / 2))\n",
    "    Y = (lim1 - lim2) / 3.14159 * np.exp(-0.5 * ((E_com - Ein_com) / delta_com) ** 2) / (\n",
    "                delta_com * (2 * 3.14159) ** 0.5)\n",
    "    return Y\n",
    "\n",
    "def finite_target_yield(Ein_com, Ymax, Er_com, gamma_r_com, delE_com, delta_com):\n",
    "    return (Ymax) * integrate.quad(lambda E_com: integrand(E_com, Er_com, gamma_r_com, delE_com, Ein_com, delta_com),\n",
    "                                   Ein_com - 3 * delta_com, Ein_com + 3 * delta_com)[0]"
   ]
  },
  {
   "cell_type": "code",
   "execution_count": null,
   "metadata": {},
   "outputs": [],
   "source": [
    "proj_A = 16  # Mass number\n",
    "tar_A = 4  # Mass number\n",
    "E_ex_lab = 11.09  # MeV\n",
    "Q = 4.73  # MeV\n",
    "wg_com = 30E-6  # MeV\n",
    "gamma_r_com = 1000e-6  # 1keV upper limit from Fitfield\n",
    "dedx_lab = 6.20E-20  # MeV/atom/cm2\n",
    "tar_den_psi = 160 # psi\n",
    "beam_E_delta = 0.005  # %\n",
    "\n",
    "Er_com = E_ex_lab - Q\n",
    "E_proj_lab = Er_com * (proj_A + tar_A) / tar_A\n",
    "tar_den = (3.74 * tar_den_psi / 150) * 1E18  # atoms/cm2\n",
    "dedx_com = (tar_A / (tar_A + proj_A)) * dedx_lab\n",
    "delE_com = dedx_com * tar_den  # MeV\n",
    "beam_E_delta_com = beam_E_delta * 0.01 * Er_com\n",
    "\n",
    "mid_E_com = Er_com + 0.5*(gamma_r_com + delE_com)\n",
    "mid_E_lab = mid_E_com * (proj_A + tar_A) / tar_A\n",
    "\n",
    "lambda_sq_com = lambda_sq(tar_A, proj_A, Er_com)\n",
    "Ymax = max_yield(lambda_sq_com, dedx_com, wg_com)\n",
    "\n",
    "x = np.linspace(mid_E_lab / proj_A - 0.013, mid_E_lab / proj_A + 0.013, 100)\n",
    "th_yield = []\n",
    "\n",
    "for i in range(0, len(x)):\n",
    "    Ein_lab = x[i] * proj_A\n",
    "    Ein_com = Ein_lab * tar_A / (proj_A + tar_A)\n",
    "\n",
    "    Y = finite_target_yield(Ein_com, Ymax, Er_com, gamma_r_com, delE_com, beam_E_delta_com)\n",
    "    th_yield.append(Y)\n",
    "\n",
    "plt.figure(figsize=(10, 6))\n",
    "\n",
    "plt.plot(x, th_yield, linestyle='-', c='r', alpha=1.0, label='yield')\n",
    "\n",
    "plt.axvline(E_proj_lab/proj_A, linestyle='--', c='g', label='Er')\n",
    "plt.axhline(Ymax, c='k', linestyle='--', label='Ymax')\n",
    "\n",
    "fontSize=15\n",
    "\n",
    "plt.xlabel('beam energy (MeV/u)',fontsize=fontSize)\n",
    "plt.xticks(fontsize=fontSize)\n",
    "plt.ylabel('Yield',fontsize=fontSize)\n",
    "plt.yticks(fontsize=fontSize)\n",
    "plt_title = 'dE/E = {:.2f} %, target = {:.0f} psi'.format(beam_E_delta, tar_den_psi)\n",
    "plt.title(plt_title,fontsize=18)\n",
    "plt.ylim(-Ymax*0.2, 1.2*Ymax)\n",
    "plt.legend(fontsize=15)\n",
    "plt.grid()\n",
    "\n",
    "plt.show()"
   ]
  }
 ],
 "metadata": {
  "interpreter": {
   "hash": "aee8b7b246df8f9039afb4144a1f6fd8d2ca17a180786b69acc140d282b71a49"
  },
  "kernelspec": {
   "display_name": "Python 3.9.5 64-bit",
   "language": "python",
   "name": "python3"
  },
  "language_info": {
   "codemirror_mode": {
    "name": "ipython",
    "version": 3
   },
   "file_extension": ".py",
   "mimetype": "text/x-python",
   "name": "python",
   "nbconvert_exporter": "python",
   "pygments_lexer": "ipython3",
   "version": "3.9.5"
  },
  "orig_nbformat": 4
 },
 "nbformat": 4,
 "nbformat_minor": 2
}

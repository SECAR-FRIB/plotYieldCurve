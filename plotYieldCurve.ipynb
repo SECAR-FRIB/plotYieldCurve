{
 "cells": [
  {
   "cell_type": "markdown",
   "metadata": {},
   "source": [
    "# Finite target yield curve\n",
    "### (Reaction yield vs beam energy for a narrow resonance)\n",
    "\n",
    "\n",
    "\n",
    "\n",
    "#### <u>**Reaction yield definition** </u>\n",
    "$$\n",
    "Y = \\frac{number~of~reactions}{number~of~incident~beam~particles} = \\frac{N_R}{N_B}.\n",
    "$$\n",
    "\n",
    "Reaction cross-section:\n",
    "$$\n",
    "\\sigma = \\frac{N_R/t}{N_T \\times N_B/(t \\times A)},\\\\\n",
    "$$\n",
    "where, $N_R, N_B, N_T$ are number of reactions, beam, and target nuclei respectively, *t* is time, and *A* is the beam area.\n",
    "\n",
    "Combining the above 2 equations gives,\n",
    "$$\n",
    "Y = \\sigma \\times (N_T/A).\n",
    "$$\n",
    "\n",
    "#### <u>**Thick target yield** </u>\n",
    "\n",
    "The reaction yield for a thin slice (of thickness $\\Delta x$) of target:\n",
    "$$\n",
    "\\Delta Y = \\sigma \\times N_t \\times \\Delta x,\\\\\n",
    "$$\n",
    "where, $N_t$ is number of target atoms per unit area.\n",
    "\n",
    "Reaction yield for the full target thickness for incident beam energy $E_0$:\n",
    "$$\n",
    "Y(E_0) = \\int \\sigma(x) N(x) dx = \\int \\sigma(x) N(x) dx \\frac{dE(x)}{dx} \\frac{dx}{dE(x)} = \\int_{E_0-\\Delta E}^{E_0} \\frac{\\sigma(E)}{\\epsilon(E)} dE,\n",
    "$$\n",
    "where, $\\Delta E$ is the total energy loss in the full target thickness,\\\n",
    "and $\\epsilon(E)$ is the stopping power in $eV/(at/cm^2)$:\n",
    "$$\n",
    "\\epsilon(E)=\\frac{1}{N} \\frac{dE}{dx}.\n",
    "$$\n",
    "\n",
    "Using Breit-Wigner equation for resonant cross-section:\n",
    "$$\n",
    "\\sigma_{BW}(E) = \\frac{\\lambda^2}{4\\pi} \\frac{(2J+1)(1+\\delta_{01})}{(2J_0+1)(2J_1+1)} \\frac{\\Gamma_a\\Gamma_b}{(E_r-E)^2+\\Gamma^2/4},\n",
    "$$\n",
    "where,\\\n",
    "$J_0, J_1, \\& ~J$ are the target, projectile, and resonance spins,\\\n",
    "$\\Gamma_a, \\Gamma_b, \\& ~\\Gamma$ are the entrace channel, exit channel, and the resonoance widths,\\\n",
    "$\\lambda$ and $E_r$ are de Broglie wavelength and the resonance energy respectively.\n",
    "\n",
    "The Breit-Wigner equation can be written in terms of <u>**resonance strength, $\\omega \\gamma$**</u>, as:\n",
    "$$\n",
    "\\sigma_{BW}(E) = \\frac{\\lambda^2}{4\\pi} \\omega \\gamma \\frac{1}{(E_r-E)^2+\\Gamma^2/4},\n",
    "$$\n",
    "where, $\\omega = [(2J+1)(1+\\delta_{01})]/[(2J_0+1)(2J_1+1)]$,\\\n",
    "and $\\gamma = \\Gamma_a \\Gamma_b / \\Gamma$.\n",
    "\n",
    "Substituting, BW equation for $\\sigma(E)$ in the yield equation:\n",
    "$$\n",
    "Y(E_0) = \\frac{1}{\\epsilon_r} \\frac{\\lambda_r^2}{2\\pi} \\omega \\gamma \\frac{\\Gamma}{2} \\int_{E_0-\\Delta E}^{E_0} \\frac{dE}{(E_r-E)^2+ \\Gamma^2/4} = \\frac{1}{\\epsilon_r} \\frac{\\lambda_r^2}{2\\pi} \\omega \\gamma \\Bigg[ atan \\Bigg( \\frac{E_0 - E_r}{\\Gamma/2} \\Bigg) - atan \\Bigg( \\frac{E_0 - E_r - \\Delta E}{\\Gamma/2} \\Bigg)\\Bigg]\n",
    "$$\n",
    "\n",
    "#### <u>**Beam energy spread** </u>\n",
    "To take into account the effect of the spread in the beam energy on yield curve, a Gaussian is added to the equation as following:\n",
    "$$\n",
    "\\textcolor{blue}{Y(E_0) = \\frac{1}{\\epsilon_r} \\frac{\\lambda_r^2}{2\\pi} \\omega \\gamma \\int_{E_0-3\\delta}^{E_0+3\\delta} \\bigg[ atan \\bigg( \\frac{E - E_r}{\\Gamma/2} \\bigg) - atan \\bigg( \\frac{E - E_r - \\Delta E}{\\Gamma/2} \\bigg)\\bigg] g(E-E_0) dE,}\n",
    "$$\n",
    "with,\n",
    "$$\n",
    "g(E-E_0) = \\frac{1}{\\delta \\sqrt{2\\pi}} e^{-\\frac{(E-E_0)^2}{2\\delta^2}},\n",
    "$$\n",
    "where,\\\n",
    "$\\epsilon_r = $ stopping power in eV/(at/cm $^2$) at resonance energy (in center of mass),\\\n",
    "$\\lambda_r = h^2c^2/(2\\mu E_r^{com}) = $ de Broglie wavelength at the resonance energy (in center of mass),\\\n",
    "$\\omega \\gamma = $ resonance strength (in center of mass),\\\n",
    "$E_0 = $ mean beam energy (in center of mass),\\\n",
    "$\\delta = $ beam energy spread (in center of mass),\\\n",
    "$E_r = $ resonance energy (in center of mass),\\\n",
    "$\\Gamma = $ resonance width (in center of mass), and,\\\n",
    "$\\Delta E = $ total energy loss in target thickness (in center of mass)."
   ]
  },
  {
   "cell_type": "markdown",
   "metadata": {},
   "source": [
    "### Enter input parameters here:"
   ]
  },
  {
   "cell_type": "code",
   "execution_count": 2,
   "metadata": {},
   "outputs": [],
   "source": [
    "proj_A = 16  # Projectile mass number\n",
    "tar_A = 4  # Target mass number\n",
    "E_ex_lab = 11.09  # Resonance excitation energy in compund nucleus (MeV)\n",
    "Q = 4.73  # Reaction Q-value in lab (MeV)\n",
    "wg_com = 30E-6  # resonance strength in center of mass (MeV)\n",
    "gamma_r_com = 1000e-6  # 1keV upper limit from Fitfield\n",
    "dedx_lab = 6.20E-20  # stopping power of projectile in target in lab (MeV/atom/cm2)\n",
    "tar_den_psi = 160 # target density (psi)\n",
    "beam_E_delta = 0.005  # beam energy spread (%)"
   ]
  },
  {
   "cell_type": "markdown",
   "metadata": {},
   "source": [
    "### Calculation of parameters needed in yield equations and in plotting. "
   ]
  },
  {
   "cell_type": "code",
   "execution_count": 21,
   "metadata": {},
   "outputs": [
    {
     "name": "stdout",
     "output_type": "stream",
     "text": [
      "31.92616933333333 0.24738919949837035\n"
     ]
    }
   ],
   "source": [
    "\n",
    "Er_com = E_ex_lab - Q #resonance energy in com in MeV\n",
    "E_proj_lab = Er_com * (proj_A + tar_A) / tar_A # Projectile's energy corresponding to resonance in lab\n",
    "tar_den = (3.74 * tar_den_psi / 150) * 1E18  # For nozzle E, 150psi jet corresponds to 3.74 atoms/cm2\n",
    "dedx_com = (tar_A / (tar_A + proj_A)) * dedx_lab # Stopping power in CM\n",
    "delE_com = dedx_com * tar_den  # Energy loss in CM\n",
    "beam_E_delta_com = beam_E_delta * 0.01 * Er_com # Beam energy spread in CM\n",
    "\n",
    "mid_E_com = Er_com + 0.5*(gamma_r_com + delE_com) # Mid point in yield curve in CM\n",
    "mid_E_lab = mid_E_com * (proj_A + tar_A) / tar_A # Mid point in yield curve in lab\n",
    "FWHM_com = (gamma_r_com**2 + delE_com**2)**0.5 # FWHM of the yield curve in CM\n",
    "FWHM_lab = FWHM_com * (proj_A + tar_A) / tar_A # FWHM of the yield curve in lab"
   ]
  },
  {
   "cell_type": "markdown",
   "metadata": {},
   "source": [
    "### Importing required libraries and defining functions to calculate $\\lambda^2$, $Y_{max}$ (for infinitely thick target), and $Y(E_0)$."
   ]
  },
  {
   "cell_type": "code",
   "execution_count": 5,
   "metadata": {},
   "outputs": [],
   "source": [
    "import math\n",
    "import matplotlib.pyplot as plt\n",
    "import numpy as np\n",
    "import scipy.integrate as integrate\n",
    "\n",
    "def lambda_sq(tar_A, proj_A, Er_com):\n",
    "    red_M = proj_A * tar_A / (proj_A + tar_A)\n",
    "    h = 4.1357E-21  # MeV.s\n",
    "    amu = 9.32E+02  # MeV/c2\n",
    "    c = 3E+10  # cm/s\n",
    "    return h * h * c * c / (2 * red_M * amu * Er_com)  # cm2\n",
    "\n",
    "def max_yield(lambda_sq_com, dedx_com, wg_com): # for infinitely thick target\n",
    "    Ymax = (lambda_sq_com / 2) * (1 / dedx_com) * (wg_com)\n",
    "    return Ymax\n",
    "\n",
    "def integrand(E_com, Er_com, gamma_r_com, delE_com, Ein_com, delta_com):\n",
    "    lim1 = math.atan((E_com - Er_com) / (gamma_r_com / 2))\n",
    "    lim2 = math.atan((E_com - Er_com - delE_com) / (gamma_r_com / 2))\n",
    "    Y = (lim1 - lim2) / 3.14159 * np.exp(-0.5 * ((E_com - Ein_com) / delta_com) ** 2) / (\n",
    "                delta_com * (2 * 3.14159) ** 0.5)\n",
    "    return Y\n",
    "\n",
    "def finite_target_yield(Ein_com, Ymax, Er_com, gamma_r_com, delE_com, delta_com):\n",
    "    return (Ymax) * integrate.quad(lambda E_com: integrand(E_com, Er_com, gamma_r_com, delE_com, Ein_com, delta_com),\n",
    "                                   Ein_com - 3 * delta_com, Ein_com + 3 * delta_com)[0]"
   ]
  },
  {
   "cell_type": "markdown",
   "metadata": {},
   "source": [
    "### Yield calculation for energies in list (x) created above."
   ]
  },
  {
   "cell_type": "code",
   "execution_count": 24,
   "metadata": {},
   "outputs": [
    {
     "name": "stdout",
     "output_type": "stream",
     "text": [
      "[31.72825797 31.73225618 31.73625439 31.7402526  31.74425081 31.74824902\n",
      " 31.75224723 31.75624544 31.76024365 31.76424186 31.76824007 31.77223828\n",
      " 31.77623649 31.78023469 31.7842329  31.78823111 31.79222932 31.79622753\n",
      " 31.80022574 31.80422395 31.80822216 31.81222037 31.81621858 31.82021679\n",
      " 31.824215   31.82821321 31.83221142 31.83620962 31.84020783 31.84420604\n",
      " 31.84820425 31.85220246 31.85620067 31.86019888 31.86419709 31.8681953\n",
      " 31.87219351 31.87619172 31.88018993 31.88418814 31.88818635 31.89218455\n",
      " 31.89618276 31.90018097 31.90417918 31.90817739 31.9121756  31.91617381\n",
      " 31.92017202 31.92417023 31.92816844 31.93216665 31.93616486 31.94016307\n",
      " 31.94416128 31.94815948 31.95215769 31.9561559  31.96015411 31.96415232\n",
      " 31.96815053 31.97214874 31.97614695 31.98014516 31.98414337 31.98814158\n",
      " 31.99213979 31.996138   32.00013621 32.00413441 32.00813262 32.01213083\n",
      " 32.01612904 32.02012725 32.02412546 32.02812367 32.03212188 32.03612009\n",
      " 32.0401183  32.04411651 32.04811472 32.05211293 32.05611114 32.06010934\n",
      " 32.06410755 32.06810576 32.07210397 32.07610218 32.08010039 32.0840986\n",
      " 32.08809681 32.09209502 32.09609323 32.10009144 32.10408965 32.10808786\n",
      " 32.11208607 32.11608427 32.12008248 32.12408069]\n"
     ]
    }
   ],
   "source": [
    "Ein_lab_list = np.linspace(mid_E_lab-0.8*FWHM_lab, mid_E_lab+0.8*FWHM_lab, 100) #list of lab energies for which yield is to be calculated\n",
    "th_yield = [] # empty list where yield values will be stored\n",
    "\n",
    "lambda_sq_com = lambda_sq(tar_A, proj_A, Er_com) \n",
    "Ymax = max_yield(lambda_sq_com, dedx_com, wg_com)\n",
    "\n",
    "for Ein_lab in Ein_lab_list:\n",
    "    Ein_com = Ein_lab * tar_A / (proj_A + tar_A) # the lab frame to center of mass frame.\n",
    "\n",
    "    Y = finite_target_yield(Ein_com, Ymax, Er_com, gamma_r_com, delE_com, beam_E_delta_com)\n",
    "    th_yield.append(Y)"
   ]
  },
  {
   "cell_type": "markdown",
   "metadata": {},
   "source": [
    "### Plotting the yield curve"
   ]
  },
  {
   "cell_type": "code",
   "execution_count": 26,
   "metadata": {},
   "outputs": [
    {
     "data": {
      "image/png": "[encoded data removed]",
      "text/plain": [
       "<Figure size 720x432 with 1 Axes>"
      ]
     },
     "metadata": {
      "needs_background": "light"
     },
     "output_type": "display_data"
    }
   ],
   "source": [
    "E_lab_per_u = []\n",
    "for i in Ein_lab_list:\n",
    "    E_lab_per_u.append(i/proj_A)\n",
    "\n",
    "plt.figure(figsize=(10, 6))\n",
    "\n",
    "plt.plot(E_lab_per_u, th_yield, linestyle='-', c='r', alpha=1.0, label='yield')\n",
    "\n",
    "plt.axvline(E_proj_lab/proj_A, linestyle='--', c='g', label='Er')\n",
    "plt.axhline(Ymax, c='k', linestyle='--', label='Ymax')\n",
    "\n",
    "fontSize=15\n",
    "\n",
    "plt.xlabel('beam energy (MeV/u)',fontsize=fontSize)\n",
    "plt.xticks(fontsize=fontSize)\n",
    "plt.ylabel('Yield',fontsize=fontSize)\n",
    "plt.yticks(fontsize=fontSize)\n",
    "plt_title = 'dE/E = {:.2f} %, target = {:.0f} psi'.format(beam_E_delta, tar_den_psi)\n",
    "plt.title(plt_title,fontsize=18)\n",
    "plt.ylim(-Ymax*0.2, 1.2*Ymax)\n",
    "plt.legend(fontsize=15)\n",
    "plt.grid()\n",
    "\n",
    "plt.show()"
   ]
  },
  {
   "cell_type": "code",
   "execution_count": null,
   "metadata": {},
   "outputs": [],
   "source": []
  }
 ],
 "metadata": {
  "interpreter": {
   "hash": "aee8b7b246df8f9039afb4144a1f6fd8d2ca17a180786b69acc140d282b71a49"
  },
  "kernelspec": {
   "display_name": "Python 3.9.5 64-bit",
   "language": "python",
   "name": "python3"
  },
  "language_info": {
   "codemirror_mode": {
    "name": "ipython",
    "version": 3
   },
   "file_extension": ".py",
   "mimetype": "text/x-python",
   "name": "python",
   "nbconvert_exporter": "python",
   "pygments_lexer": "ipython3",
   "version": "3.9.13"
  },
  "orig_nbformat": 4
 },
 "nbformat": 4,
 "nbformat_minor": 2
}
